{
 "cells": [
  {
   "cell_type": "code",
   "execution_count": 1,
   "id": "radio-council",
   "metadata": {},
   "outputs": [],
   "source": [
    "import sklearn\n",
    "import numpy as np\n",
    "from sklearn.neighbors import KNeighborsClassifier\n",
    "from sklearn.datasets import fetch_openml\n",
    "from sklearn.model_selection import GridSearchCV\n",
    "from sklearn.preprocessing import StandardScaler"
   ]
  },
  {
   "cell_type": "code",
   "execution_count": 2,
   "id": "governmental-lingerie",
   "metadata": {},
   "outputs": [],
   "source": [
    "np.random.seed(42)"
   ]
  },
  {
   "cell_type": "code",
   "execution_count": 3,
   "id": "indirect-alexander",
   "metadata": {},
   "outputs": [],
   "source": [
    "mnist = fetch_openml('mnist_784', version=1, as_frame=False)\n",
    "X, y = mnist[\"data\"], mnist[\"target\"]\n",
    "\n",
    "y = y.astype(np.uint8)\n",
    "\n",
    "X_train, X_test, y_train, y_test = X[:60000], X[60000:], y[:60000], y[60000:]"
   ]
  },
  {
   "cell_type": "code",
   "execution_count": 5,
   "id": "meaningful-regard",
   "metadata": {},
   "outputs": [],
   "source": [
    "param_grid = [{'weights': [\"uniform\", \"distance\"], 'n_neighbors': [3, 4, 5]}]\n",
    "knn_clf = KNeighborsClassifier()\n",
    "grid_search = GridSearchCV(knn_clf, param_grid, cv=5, verbose=3)"
   ]
  },
  {
   "cell_type": "code",
   "execution_count": 6,
   "id": "seeing-orchestra",
   "metadata": {},
   "outputs": [
    {
     "name": "stdout",
     "output_type": "stream",
     "text": [
      "Fitting 5 folds for each of 6 candidates, totalling 30 fits\n",
      "[CV 1/5] END .................n_neighbors=3, weights=uniform; total time=  21.7s\n",
      "[CV 2/5] END .................n_neighbors=3, weights=uniform; total time=  20.9s\n",
      "[CV 3/5] END .................n_neighbors=3, weights=uniform; total time=  21.5s\n",
      "[CV 4/5] END .................n_neighbors=3, weights=uniform; total time=  21.2s\n",
      "[CV 5/5] END .................n_neighbors=3, weights=uniform; total time=  20.9s\n",
      "[CV 1/5] END ................n_neighbors=3, weights=distance; total time=  20.4s\n",
      "[CV 2/5] END ................n_neighbors=3, weights=distance; total time=  20.1s\n",
      "[CV 3/5] END ................n_neighbors=3, weights=distance; total time=  21.0s\n",
      "[CV 4/5] END ................n_neighbors=3, weights=distance; total time=  20.8s\n",
      "[CV 5/5] END ................n_neighbors=3, weights=distance; total time=  21.6s\n",
      "[CV 1/5] END .................n_neighbors=4, weights=uniform; total time=  25.3s\n",
      "[CV 2/5] END .................n_neighbors=4, weights=uniform; total time=  25.6s\n",
      "[CV 3/5] END .................n_neighbors=4, weights=uniform; total time=  24.9s\n",
      "[CV 4/5] END .................n_neighbors=4, weights=uniform; total time=  25.7s\n",
      "[CV 5/5] END .................n_neighbors=4, weights=uniform; total time=  25.1s\n",
      "[CV 1/5] END ................n_neighbors=4, weights=distance; total time=  24.4s\n",
      "[CV 2/5] END ................n_neighbors=4, weights=distance; total time=  24.5s\n",
      "[CV 3/5] END ................n_neighbors=4, weights=distance; total time=  24.6s\n",
      "[CV 4/5] END ................n_neighbors=4, weights=distance; total time=  24.8s\n",
      "[CV 5/5] END ................n_neighbors=4, weights=distance; total time=  24.0s\n",
      "[CV 1/5] END .................n_neighbors=5, weights=uniform; total time=  24.9s\n",
      "[CV 2/5] END .................n_neighbors=5, weights=uniform; total time=  24.2s\n",
      "[CV 3/5] END .................n_neighbors=5, weights=uniform; total time=  24.6s\n",
      "[CV 4/5] END .................n_neighbors=5, weights=uniform; total time=  24.8s\n",
      "[CV 5/5] END .................n_neighbors=5, weights=uniform; total time=  24.6s\n",
      "[CV 1/5] END ................n_neighbors=5, weights=distance; total time=  24.3s\n",
      "[CV 2/5] END ................n_neighbors=5, weights=distance; total time=  24.0s\n",
      "[CV 3/5] END ................n_neighbors=5, weights=distance; total time=  24.2s\n",
      "[CV 4/5] END ................n_neighbors=5, weights=distance; total time=  23.9s\n",
      "[CV 5/5] END ................n_neighbors=5, weights=distance; total time=  23.4s\n"
     ]
    },
    {
     "data": {
      "text/plain": [
       "GridSearchCV(cv=5, estimator=KNeighborsClassifier(),\n",
       "             param_grid=[{'n_neighbors': [3, 4, 5],\n",
       "                          'weights': ['uniform', 'distance']}],\n",
       "             verbose=3)"
      ]
     },
     "execution_count": 6,
     "metadata": {},
     "output_type": "execute_result"
    }
   ],
   "source": [
    "grid_search.fit(X_train, y_train)"
   ]
  },
  {
   "cell_type": "code",
   "execution_count": 7,
   "id": "broken-robert",
   "metadata": {},
   "outputs": [
    {
     "data": {
      "text/plain": [
       "{'n_neighbors': 4, 'weights': 'distance'}"
      ]
     },
     "execution_count": 7,
     "metadata": {},
     "output_type": "execute_result"
    }
   ],
   "source": [
    "grid_search.best_params_"
   ]
  },
  {
   "cell_type": "code",
   "execution_count": 8,
   "id": "amended-midnight",
   "metadata": {},
   "outputs": [
    {
     "data": {
      "text/plain": [
       "0.9465166666666667"
      ]
     },
     "execution_count": 8,
     "metadata": {},
     "output_type": "execute_result"
    }
   ],
   "source": [
    "grid_search.best_score_"
   ]
  },
  {
   "cell_type": "code",
   "execution_count": 9,
   "id": "jewish-alberta",
   "metadata": {},
   "outputs": [
    {
     "ename": "NameError",
     "evalue": "name 'accuracy_score' is not defined",
     "output_type": "error",
     "traceback": [
      "\u001b[0;31m---------------------------------------------------------------------------\u001b[0m",
      "\u001b[0;31mNameError\u001b[0m                                 Traceback (most recent call last)",
      "\u001b[0;32m<ipython-input-9-b56ee90e23f4>\u001b[0m in \u001b[0;36m<module>\u001b[0;34m\u001b[0m\n\u001b[1;32m      1\u001b[0m \u001b[0my_pred\u001b[0m \u001b[0;34m=\u001b[0m \u001b[0mgrid_search\u001b[0m\u001b[0;34m.\u001b[0m\u001b[0mpredict\u001b[0m\u001b[0;34m(\u001b[0m\u001b[0mX_test\u001b[0m\u001b[0;34m)\u001b[0m\u001b[0;34m\u001b[0m\u001b[0;34m\u001b[0m\u001b[0m\n\u001b[0;32m----> 2\u001b[0;31m \u001b[0maccuracy_score\u001b[0m\u001b[0;34m(\u001b[0m\u001b[0my_test\u001b[0m\u001b[0;34m,\u001b[0m \u001b[0my_pred\u001b[0m\u001b[0;34m)\u001b[0m\u001b[0;34m\u001b[0m\u001b[0;34m\u001b[0m\u001b[0m\n\u001b[0m",
      "\u001b[0;31mNameError\u001b[0m: name 'accuracy_score' is not defined"
     ]
    }
   ],
   "source": [
    "y_pred = grid_search.predict(X_test)\n",
    "accuracy_score(y_test, y_pred)"
   ]
  }
 ],
 "metadata": {
  "kernelspec": {
   "display_name": "Python 3",
   "language": "python",
   "name": "python3"
  },
  "language_info": {
   "codemirror_mode": {
    "name": "ipython",
    "version": 3
   },
   "file_extension": ".py",
   "mimetype": "text/x-python",
   "name": "python",
   "nbconvert_exporter": "python",
   "pygments_lexer": "ipython3",
   "version": "3.7.9"
  }
 },
 "nbformat": 4,
 "nbformat_minor": 5
}
