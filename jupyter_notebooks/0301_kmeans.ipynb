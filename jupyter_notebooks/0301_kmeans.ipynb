{
 "cells": [
  {
   "cell_type": "code",
   "execution_count": 9,
   "id": "radio-council",
   "metadata": {},
   "outputs": [],
   "source": [
    "import sklearn\n",
    "import numpy as np\n",
    "from sklearn.neighbors import KNeighborsClassifier\n",
    "from sklearn.datasets import fetch_openml\n",
    "from sklearn.model_selection import GridSearchCV\n",
    "from sklearn.metrics import accuracy_score"
   ]
  },
  {
   "cell_type": "code",
   "execution_count": 2,
   "id": "governmental-lingerie",
   "metadata": {},
   "outputs": [],
   "source": [
    "np.random.seed(42)"
   ]
  },
  {
   "cell_type": "code",
   "execution_count": 3,
   "id": "indirect-alexander",
   "metadata": {},
   "outputs": [],
   "source": [
    "mnist = fetch_openml('mnist_784', version=1, as_frame=False)\n",
    "X, y = mnist[\"data\"], mnist[\"target\"]\n",
    "\n",
    "y = y.astype(np.uint8)\n",
    "\n",
    "X_train, X_test, y_train, y_test = X[:60000], X[60000:], y[:60000], y[60000:]"
   ]
  },
  {
   "cell_type": "code",
   "execution_count": 4,
   "id": "meaningful-regard",
   "metadata": {},
   "outputs": [],
   "source": [
    "param_grid = [{'weights': [\"uniform\", \"distance\"], 'n_neighbors': [3, 4, 5]}]\n",
    "knn_clf = KNeighborsClassifier()\n",
    "grid_search = GridSearchCV(knn_clf, param_grid, cv=5, verbose=3)"
   ]
  },
  {
   "cell_type": "code",
   "execution_count": 5,
   "id": "seeing-orchestra",
   "metadata": {},
   "outputs": [
    {
     "name": "stdout",
     "output_type": "stream",
     "text": [
      "Fitting 5 folds for each of 6 candidates, totalling 30 fits\n",
      "[CV 1/5] END .................n_neighbors=3, weights=uniform; total time=  17.2s\n",
      "[CV 2/5] END .................n_neighbors=3, weights=uniform; total time=  17.1s\n",
      "[CV 3/5] END .................n_neighbors=3, weights=uniform; total time=  17.6s\n",
      "[CV 4/5] END .................n_neighbors=3, weights=uniform; total time=  17.0s\n",
      "[CV 5/5] END .................n_neighbors=3, weights=uniform; total time=  16.9s\n",
      "[CV 1/5] END ................n_neighbors=3, weights=distance; total time=  16.6s\n",
      "[CV 2/5] END ................n_neighbors=3, weights=distance; total time=  16.5s\n",
      "[CV 3/5] END ................n_neighbors=3, weights=distance; total time=  16.5s\n",
      "[CV 4/5] END ................n_neighbors=3, weights=distance; total time=  16.4s\n",
      "[CV 5/5] END ................n_neighbors=3, weights=distance; total time=  16.5s\n",
      "[CV 1/5] END .................n_neighbors=4, weights=uniform; total time=  19.4s\n",
      "[CV 2/5] END .................n_neighbors=4, weights=uniform; total time=  19.5s\n",
      "[CV 3/5] END .................n_neighbors=4, weights=uniform; total time=  19.4s\n",
      "[CV 4/5] END .................n_neighbors=4, weights=uniform; total time=  19.6s\n",
      "[CV 5/5] END .................n_neighbors=4, weights=uniform; total time=  19.7s\n",
      "[CV 1/5] END ................n_neighbors=4, weights=distance; total time=  19.0s\n",
      "[CV 2/5] END ................n_neighbors=4, weights=distance; total time=  19.2s\n",
      "[CV 3/5] END ................n_neighbors=4, weights=distance; total time=  19.0s\n",
      "[CV 4/5] END ................n_neighbors=4, weights=distance; total time=  19.4s\n",
      "[CV 5/5] END ................n_neighbors=4, weights=distance; total time=  19.7s\n",
      "[CV 1/5] END .................n_neighbors=5, weights=uniform; total time=  19.4s\n",
      "[CV 2/5] END .................n_neighbors=5, weights=uniform; total time=  19.5s\n",
      "[CV 3/5] END .................n_neighbors=5, weights=uniform; total time=  19.4s\n",
      "[CV 4/5] END .................n_neighbors=5, weights=uniform; total time=  19.8s\n",
      "[CV 5/5] END .................n_neighbors=5, weights=uniform; total time=  19.9s\n",
      "[CV 1/5] END ................n_neighbors=5, weights=distance; total time=  19.2s\n",
      "[CV 2/5] END ................n_neighbors=5, weights=distance; total time=  19.3s\n",
      "[CV 3/5] END ................n_neighbors=5, weights=distance; total time=  19.1s\n",
      "[CV 4/5] END ................n_neighbors=5, weights=distance; total time=  19.4s\n",
      "[CV 5/5] END ................n_neighbors=5, weights=distance; total time=  19.5s\n"
     ]
    },
    {
     "data": {
      "text/plain": [
       "GridSearchCV(cv=5, estimator=KNeighborsClassifier(),\n",
       "             param_grid=[{'n_neighbors': [3, 4, 5],\n",
       "                          'weights': ['uniform', 'distance']}],\n",
       "             verbose=3)"
      ]
     },
     "execution_count": 5,
     "metadata": {},
     "output_type": "execute_result"
    }
   ],
   "source": [
    "grid_search.fit(X_train, y_train)"
   ]
  },
  {
   "cell_type": "code",
   "execution_count": 6,
   "id": "broken-robert",
   "metadata": {},
   "outputs": [
    {
     "data": {
      "text/plain": [
       "{'n_neighbors': 4, 'weights': 'distance'}"
      ]
     },
     "execution_count": 6,
     "metadata": {},
     "output_type": "execute_result"
    }
   ],
   "source": [
    "grid_search.best_params_"
   ]
  },
  {
   "cell_type": "code",
   "execution_count": 7,
   "id": "amended-midnight",
   "metadata": {},
   "outputs": [
    {
     "data": {
      "text/plain": [
       "0.9716166666666666"
      ]
     },
     "execution_count": 7,
     "metadata": {},
     "output_type": "execute_result"
    }
   ],
   "source": [
    "grid_search.best_score_"
   ]
  },
  {
   "cell_type": "code",
   "execution_count": 10,
   "id": "jewish-alberta",
   "metadata": {},
   "outputs": [
    {
     "data": {
      "text/plain": [
       "0.9714"
      ]
     },
     "execution_count": 10,
     "metadata": {},
     "output_type": "execute_result"
    }
   ],
   "source": [
    "y_pred = grid_search.predict(X_test)\n",
    "accuracy_score(y_test, y_pred)"
   ]
  }
 ],
 "metadata": {
  "kernelspec": {
   "display_name": "Python 3",
   "language": "python",
   "name": "python3"
  },
  "language_info": {
   "codemirror_mode": {
    "name": "ipython",
    "version": 3
   },
   "file_extension": ".py",
   "mimetype": "text/x-python",
   "name": "python",
   "nbconvert_exporter": "python",
   "pygments_lexer": "ipython3",
   "version": "3.7.9"
  }
 },
 "nbformat": 4,
 "nbformat_minor": 5
}
